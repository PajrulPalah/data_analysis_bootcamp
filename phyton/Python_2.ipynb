{
  "cells": [
    {
      "cell_type": "markdown",
      "metadata": {
        "id": "view-in-github",
        "colab_type": "text"
      },
      "source": [
        "<a href=\"https://colab.research.google.com/github/PajrulPalah/data_analysis_bootcamp/blob/main/phyton/Python_2.ipynb\" target=\"_parent\"><img src=\"https://colab.research.google.com/assets/colab-badge.svg\" alt=\"Open In Colab\"/></a>"
      ]
    },
    {
      "cell_type": "markdown",
      "id": "1fb1c9be",
      "metadata": {
        "id": "1fb1c9be"
      },
      "source": [
        "# **LIST**"
      ]
    },
    {
      "cell_type": "markdown",
      "id": "c7f147ba",
      "metadata": {
        "id": "c7f147ba"
      },
      "source": [
        "List digunakan untuk menyimpan beberapa item dalam satu variabel.\n",
        "\n",
        "List adalah salah satu dari 4 tipe data bawaan dalam Python yang digunakan untuk menyimpan koleksi data, 3 lainnya adalah Tuple, Set, dan Dictionary, semuanya dengan kualitas dan penggunaan yang berbeda.\n",
        "\n",
        "List dibuat dengan menggunakan tanda kurung siku"
      ]
    },
    {
      "cell_type": "markdown",
      "id": "9f586307",
      "metadata": {
        "id": "9f586307"
      },
      "source": [
        "## Sifat List"
      ]
    },
    {
      "cell_type": "markdown",
      "id": "3d0291e5",
      "metadata": {
        "id": "3d0291e5"
      },
      "source": [
        "1. List berisi koleksi nilai/data\n",
        "2. List bisa berisi tipe data apapun dan tidak semua data berisi tipe data yang sama\n",
        "3. List dapat diubah (Mutable)"
      ]
    },
    {
      "cell_type": "code",
      "execution_count": null,
      "id": "3d43f4dd",
      "metadata": {
        "id": "3d43f4dd",
        "outputId": "2e91fab4-9dc0-4dd0-884c-aaa66f4b6a79",
        "colab": {
          "base_uri": "https://localhost:8080/"
        }
      },
      "outputs": [
        {
          "output_type": "stream",
          "name": "stdout",
          "text": [
            "[]\n",
            "['apel', 'jeruk', 'anggur', 'semangga']\n"
          ]
        }
      ],
      "source": [
        "# Membuat List\n",
        "kosong = []\n",
        "buah = [\"apel\", \"jeruk\", \"anggur\", \"semangga\"]\n",
        "\n",
        "print(kosong)\n",
        "print(buah)"
      ]
    },
    {
      "cell_type": "code",
      "execution_count": null,
      "id": "1d2e6d92",
      "metadata": {
        "id": "1d2e6d92"
      },
      "outputs": [],
      "source": [
        "list1 = [\"apel\", \"jeruk\", \"pisang\", \"semangka\"]\n",
        "list2 = [1, 3, 5, 7, 11]\n",
        "list3 = [True, False, False]"
      ]
    },
    {
      "cell_type": "code",
      "source": [
        "list1"
      ],
      "metadata": {
        "colab": {
          "base_uri": "https://localhost:8080/"
        },
        "id": "1nwwW4wr9aip",
        "outputId": "7a83dc94-de11-49e4-828e-f1b18aed4120"
      },
      "id": "1nwwW4wr9aip",
      "execution_count": null,
      "outputs": [
        {
          "output_type": "execute_result",
          "data": {
            "text/plain": [
              "['apel', 'jeruk', 'pisang', 'semangka']"
            ]
          },
          "metadata": {},
          "execution_count": 3
        }
      ]
    },
    {
      "cell_type": "markdown",
      "id": "1a9ef05e",
      "metadata": {
        "id": "1a9ef05e"
      },
      "source": [
        "## Akses Data List"
      ]
    },
    {
      "cell_type": "markdown",
      "id": "91cb3bb1",
      "metadata": {
        "id": "91cb3bb1"
      },
      "source": [
        "Index menunjukan posisi suatu data di dalam list, dan python memulai index dari 0. Ada 2 teknik untuk mengakses data di dalam list. Pertama dengan subsetting list, kedua dengan slicing list."
      ]
    },
    {
      "cell_type": "code",
      "execution_count": null,
      "id": "1a20fc57",
      "metadata": {
        "id": "1a20fc57"
      },
      "outputs": [],
      "source": [
        "# Membuat data list\n",
        "\n",
        "tinggi_badan = [ 162, 177, 182, 150, 166 ]"
      ]
    },
    {
      "cell_type": "code",
      "execution_count": null,
      "id": "efd0d698",
      "metadata": {
        "id": "efd0d698",
        "outputId": "648788a4-0590-4a99-be3f-a17be08c7cc7",
        "colab": {
          "base_uri": "https://localhost:8080/"
        }
      },
      "outputs": [
        {
          "output_type": "stream",
          "name": "stdout",
          "text": [
            "162\n",
            "150\n",
            "177\n"
          ]
        }
      ],
      "source": [
        "# Subsetting list\n",
        "print(tinggi_badan[0]) # posisi pertama\n",
        "print(tinggi_badan[-2]) # posis kedua dari belakang\n",
        "print(tinggi_badan[-4]) # posis keempat dari belakang"
      ]
    },
    {
      "cell_type": "code",
      "execution_count": null,
      "id": "ce383508",
      "metadata": {
        "id": "ce383508",
        "outputId": "e264a248-02d5-4c00-ed96-c6a91d18591b",
        "colab": {
          "base_uri": "https://localhost:8080/"
        }
      },
      "outputs": [
        {
          "output_type": "stream",
          "name": "stdout",
          "text": [
            "[162, 177, 182, 150]\n",
            "[182, 150, 166]\n"
          ]
        }
      ],
      "source": [
        "# Slicinglist\n",
        "\n",
        "# Mengambil data dengan index 0, 1, 2, 3\n",
        "print(tinggi_badan[:4])\n",
        "\n",
        "# Mengambil data dengan index 2, 3, 4\n",
        "print(tinggi_badan[2:5])"
      ]
    },
    {
      "cell_type": "code",
      "source": [
        "print(tinggi_badan[2:])"
      ],
      "metadata": {
        "colab": {
          "base_uri": "https://localhost:8080/"
        },
        "id": "hGqC3jEg-OU7",
        "outputId": "f4d38ebd-f6b9-4641-a70f-21584118f1f6"
      },
      "id": "hGqC3jEg-OU7",
      "execution_count": null,
      "outputs": [
        {
          "output_type": "stream",
          "name": "stdout",
          "text": [
            "[182, 150, 166]\n"
          ]
        }
      ]
    },
    {
      "cell_type": "code",
      "source": [
        "print(tinggi_badan[:])"
      ],
      "metadata": {
        "colab": {
          "base_uri": "https://localhost:8080/"
        },
        "id": "vnIE8_7P-gQS",
        "outputId": "bfbfbcf9-4018-4227-edd0-14d83d160733"
      },
      "id": "vnIE8_7P-gQS",
      "execution_count": null,
      "outputs": [
        {
          "output_type": "stream",
          "name": "stdout",
          "text": [
            "[162, 177, 182, 150, 166]\n"
          ]
        }
      ]
    },
    {
      "cell_type": "markdown",
      "id": "01b0b187",
      "metadata": {
        "id": "01b0b187"
      },
      "source": [
        "## Manipulasi List"
      ]
    },
    {
      "cell_type": "markdown",
      "id": "889d22f4",
      "metadata": {
        "id": "889d22f4"
      },
      "source": [
        "List adalah “mutable”, artinya dapat diubah.\n",
        "\n",
        "Salah satu cara untuk mengubah daftar adalah dengan menetapkan indeks atau ekspresi irisan."
      ]
    },
    {
      "cell_type": "markdown",
      "id": "6c283cf1",
      "metadata": {
        "id": "6c283cf1"
      },
      "source": [
        "### Menambahkan Element"
      ]
    },
    {
      "cell_type": "markdown",
      "id": "6586fd8f",
      "metadata": {
        "id": "6586fd8f"
      },
      "source": [
        "Hanya satu elemen dalam satu waktu yang dapat ditambahkan ke daftar dengan menggunakan metode append(), untuk penambahan beberapa elemen dengan metode append(), digunakan loop."
      ]
    },
    {
      "cell_type": "code",
      "execution_count": null,
      "id": "7fe1a01f",
      "metadata": {
        "id": "7fe1a01f",
        "outputId": "7787a9d7-8e1e-4dca-8776-cadec2b19461",
        "colab": {
          "base_uri": "https://localhost:8080/"
        }
      },
      "outputs": [
        {
          "output_type": "stream",
          "name": "stdout",
          "text": [
            "[]\n"
          ]
        }
      ],
      "source": [
        "# adding Elements to a Python List\n",
        "\n",
        "daftar_buah = []\n",
        "print(daftar_buah)"
      ]
    },
    {
      "cell_type": "code",
      "execution_count": null,
      "id": "c86dd284",
      "metadata": {
        "id": "c86dd284",
        "outputId": "70369c26-2a1c-4e5f-c22b-af8c048f42eb",
        "colab": {
          "base_uri": "https://localhost:8080/"
        }
      },
      "outputs": [
        {
          "output_type": "stream",
          "name": "stdout",
          "text": [
            "['pisang']\n",
            "['pisang', 'semangka']\n"
          ]
        }
      ],
      "source": [
        "#menggunakan metode append()\n",
        "daftar_buah.append(\"pisang\")\n",
        "print(daftar_buah)\n",
        "\n",
        "daftar_buah.append(\"semangka\")\n",
        "print(daftar_buah)"
      ]
    },
    {
      "cell_type": "code",
      "source": [
        "daftar_buah.append(2)\n",
        "print(daftar_buah)"
      ],
      "metadata": {
        "colab": {
          "base_uri": "https://localhost:8080/"
        },
        "id": "SKV7kvYt-_VV",
        "outputId": "69474a6e-e941-46f3-c928-d2e27295fb1a"
      },
      "id": "SKV7kvYt-_VV",
      "execution_count": null,
      "outputs": [
        {
          "output_type": "stream",
          "name": "stdout",
          "text": [
            "['pisang', 'semangka', 2]\n"
          ]
        }
      ]
    },
    {
      "cell_type": "markdown",
      "id": "09fd88cf",
      "metadata": {
        "id": "09fd88cf"
      },
      "source": [
        "Metode append() hanya berfungsi untuk penambahan elemen di akhir Daftar, untuk penambahan elemen pada posisi yang diinginkan digunakan metode insert() . Berbeda dengan append() yang hanya membutuhkan satu argumen, metode insert() memerlukan dua argumen (posisi, nilai)."
      ]
    },
    {
      "cell_type": "code",
      "execution_count": null,
      "id": "a98b3584",
      "metadata": {
        "id": "a98b3584",
        "outputId": "eca6c7f5-6e03-41d7-8a98-c5eab7fe4def",
        "colab": {
          "base_uri": "https://localhost:8080/"
        }
      },
      "outputs": [
        {
          "output_type": "stream",
          "name": "stdout",
          "text": [
            "['apel', 'pisang', 'semangka', 2]\n",
            "['apel', 'pisang', 'semangka', 'jeruk', 2]\n"
          ]
        }
      ],
      "source": [
        "#menggunakan metode insert()\n",
        "daftar_buah.insert(0, \"apel\")\n",
        "print(daftar_buah)\n",
        "\n",
        "daftar_buah.insert(3, \"jeruk\")\n",
        "print(daftar_buah)"
      ]
    },
    {
      "cell_type": "markdown",
      "id": "4e8381e7",
      "metadata": {
        "id": "4e8381e7"
      },
      "source": [
        "Selain metode append() dan insert(), ada satu metode lagi untuk Penambahan elemen, extend() , metode ini digunakan untuk menambahkan beberapa elemen sekaligus di akhir daftar."
      ]
    },
    {
      "cell_type": "code",
      "execution_count": null,
      "id": "3686c45b",
      "metadata": {
        "id": "3686c45b",
        "outputId": "7a7219f2-0534-4c8f-c6e6-348864088fe2",
        "colab": {
          "base_uri": "https://localhost:8080/"
        }
      },
      "outputs": [
        {
          "output_type": "stream",
          "name": "stdout",
          "text": [
            "['apel', 'pisang', 'semangka', 'jeruk', 2, 'jambu', 'rambutan', 'nangka']\n"
          ]
        }
      ],
      "source": [
        "#menggunakan metode extend()\n",
        "daftar_buah.extend([\"jambu\", \"rambutan\", \"nangka\"])\n",
        "print(daftar_buah)"
      ]
    },
    {
      "cell_type": "code",
      "source": [
        "buah = ['duren', 'manggis']\n",
        "daftar_buah.extend(buah)\n",
        "print(daftar_buah)"
      ],
      "metadata": {
        "colab": {
          "base_uri": "https://localhost:8080/"
        },
        "id": "0MAPV384_wwE",
        "outputId": "8c1575dd-a6ba-428d-b3a8-8179ecc35a62"
      },
      "id": "0MAPV384_wwE",
      "execution_count": null,
      "outputs": [
        {
          "output_type": "stream",
          "name": "stdout",
          "text": [
            "['apel', 'pisang', 'semangka', 'jeruk', 2, 'jambu', 'rambutan', 'nangka', 'duren', 'manggis']\n"
          ]
        }
      ]
    },
    {
      "cell_type": "markdown",
      "id": "ee5e735a",
      "metadata": {
        "id": "ee5e735a"
      },
      "source": [
        "### Menghapus Element dari List"
      ]
    },
    {
      "cell_type": "code",
      "execution_count": null,
      "id": "a6c835f7",
      "metadata": {
        "id": "a6c835f7",
        "outputId": "6152ebd8-c9b6-4700-d6d8-58d66d568fbf",
        "colab": {
          "base_uri": "https://localhost:8080/"
        }
      },
      "outputs": [
        {
          "output_type": "execute_result",
          "data": {
            "text/plain": [
              "['apel',\n",
              " 'pisang',\n",
              " 'semangka',\n",
              " 'jeruk',\n",
              " 2,\n",
              " 'jambu',\n",
              " 'rambutan',\n",
              " 'nangka',\n",
              " 'duren',\n",
              " 'manggis']"
            ]
          },
          "metadata": {},
          "execution_count": 17
        }
      ],
      "source": [
        "daftar_buah"
      ]
    },
    {
      "cell_type": "code",
      "execution_count": null,
      "id": "59c5685f",
      "metadata": {
        "id": "59c5685f"
      },
      "outputs": [],
      "source": [
        "# menggunakan metode remove()"
      ]
    },
    {
      "cell_type": "markdown",
      "id": "4b761f2a",
      "metadata": {
        "id": "4b761f2a"
      },
      "source": [
        "Metode remove() hanya menghapus satu elemen dalam satu waktu, untuk menghapus serangkaian elemen, iterator digunakan. Metode hapus() menghapus item tertentu"
      ]
    },
    {
      "cell_type": "code",
      "execution_count": null,
      "id": "7f815a63",
      "metadata": {
        "id": "7f815a63",
        "outputId": "882a3c4f-4371-46ae-9332-3a933dc3a872",
        "colab": {
          "base_uri": "https://localhost:8080/"
        }
      },
      "outputs": [
        {
          "output_type": "stream",
          "name": "stdout",
          "text": [
            "['apel', 'pisang', 'semangka', 'jeruk', 'jambu', 'rambutan', 'nangka', 'duren', 'manggis']\n"
          ]
        }
      ],
      "source": [
        "daftar_buah.remove(2)\n",
        "print(daftar_buah)"
      ]
    },
    {
      "cell_type": "code",
      "execution_count": null,
      "id": "f30c0d24",
      "metadata": {
        "id": "f30c0d24"
      },
      "outputs": [],
      "source": [
        "# Menggunakan metode pop()"
      ]
    },
    {
      "cell_type": "markdown",
      "id": "04fd2f72",
      "metadata": {
        "id": "04fd2f72"
      },
      "source": [
        "fungsi pop() juga dapat digunakan untuk menghapus dan mengembalikan elemen dari daftar, tetapi secara default fungsi ini hanya menghapus elemen terakhir dari daftar, untuk menghapus elemen dari posisi tertentu dalam Daftar, indeks elemen dilewatkan sebagai argumen terhadap metode pop()."
      ]
    },
    {
      "cell_type": "code",
      "source": [
        "daftar_buah.pop()\n",
        "print(daftar_buah)"
      ],
      "metadata": {
        "colab": {
          "base_uri": "https://localhost:8080/"
        },
        "id": "vB-Jsd6kATwQ",
        "outputId": "07f77284-a268-41d1-8451-feb709726f3e"
      },
      "id": "vB-Jsd6kATwQ",
      "execution_count": null,
      "outputs": [
        {
          "output_type": "stream",
          "name": "stdout",
          "text": [
            "['apel', 'pisang', 'semangka', 'jeruk', 'jambu', 'rambutan', 'nangka', 'duren']\n"
          ]
        }
      ]
    },
    {
      "cell_type": "code",
      "execution_count": null,
      "id": "ca537069",
      "metadata": {
        "id": "ca537069",
        "outputId": "7b93e3d7-713f-4283-bed5-7a990d78aeb9",
        "colab": {
          "base_uri": "https://localhost:8080/"
        }
      },
      "outputs": [
        {
          "output_type": "stream",
          "name": "stdout",
          "text": [
            "['pisang', 'semangka', 'jeruk', 'jambu', 'rambutan', 'nangka', 'duren']\n"
          ]
        }
      ],
      "source": [
        "daftar_buah.pop(0)\n",
        "print(daftar_buah)"
      ]
    },
    {
      "cell_type": "markdown",
      "id": "4ec31365",
      "metadata": {
        "id": "4ec31365"
      },
      "source": [
        "## List in List"
      ]
    },
    {
      "cell_type": "code",
      "execution_count": null,
      "id": "52956809",
      "metadata": {
        "id": "52956809",
        "outputId": "b2cd2b5d-4e0e-4996-fc13-b910e60a2ce1",
        "colab": {
          "base_uri": "https://localhost:8080/"
        }
      },
      "outputs": [
        {
          "output_type": "stream",
          "name": "stdout",
          "text": [
            "[['Doraemon', 'Nobita', 'Giant', 'Suneo'], ['Dorayaki', 'Nasi Kebuli', 'Pecel Ayam', 'Gado-gado'], [60, 50, 80, 45]]\n"
          ]
        }
      ],
      "source": [
        "Doraemon=[\n",
        "          [\"Doraemon\",\"Nobita\",\"Giant\",\"Suneo\"],\n",
        "          [\"Dorayaki\",\"Nasi Kebuli\",\"Pecel Ayam\",\"Gado-gado\"],\n",
        "          [60,50,80,45]\n",
        "          ]\n",
        "\n",
        "print(Doraemon)"
      ]
    },
    {
      "cell_type": "code",
      "execution_count": null,
      "id": "c55f8773",
      "metadata": {
        "id": "c55f8773",
        "outputId": "27243cfa-a95a-43db-8686-1a07e89c77a4",
        "colab": {
          "base_uri": "https://localhost:8080/"
        }
      },
      "outputs": [
        {
          "output_type": "stream",
          "name": "stdout",
          "text": [
            "['Doraemon', 'Nobita', 'Giant', 'Suneo']\n",
            "Nobita\n"
          ]
        }
      ],
      "source": [
        "# akses elemen\n",
        "print(Doraemon[0])\n",
        "print(Doraemon[0][1])"
      ]
    },
    {
      "cell_type": "code",
      "execution_count": null,
      "id": "128aee23",
      "metadata": {
        "id": "128aee23",
        "outputId": "1759c864-adc7-4e78-f564-d9b0f8a6ef67",
        "colab": {
          "base_uri": "https://localhost:8080/"
        }
      },
      "outputs": [
        {
          "output_type": "stream",
          "name": "stdout",
          "text": [
            "['Doraemon', 'Nobita', 'Shizuka', 'Suneo']\n"
          ]
        }
      ],
      "source": [
        "#ubah elemen\n",
        "Doraemon[0][2]=\"Shizuka\"\n",
        "print(Doraemon[0])"
      ]
    },
    {
      "cell_type": "code",
      "execution_count": null,
      "id": "4e38a22e",
      "metadata": {
        "id": "4e38a22e",
        "outputId": "03594dc8-9bea-45d0-be35-d3c118ff612a",
        "colab": {
          "base_uri": "https://localhost:8080/"
        }
      },
      "outputs": [
        {
          "output_type": "stream",
          "name": "stdout",
          "text": [
            "['Doraemon', 'Nobita', 'Suneo']\n"
          ]
        }
      ],
      "source": [
        "#hapus elemen\n",
        "del(Doraemon[0][2])\n",
        "print(Doraemon[0])"
      ]
    },
    {
      "cell_type": "code",
      "source": [
        "Doraemon[0].remove('Nobita')\n",
        "print(Doraemon[0])"
      ],
      "metadata": {
        "colab": {
          "base_uri": "https://localhost:8080/"
        },
        "id": "7WFgjoAoBmT4",
        "outputId": "1df40759-aa31-45d0-b563-c11b08e5c37d"
      },
      "id": "7WFgjoAoBmT4",
      "execution_count": null,
      "outputs": [
        {
          "output_type": "stream",
          "name": "stdout",
          "text": [
            "['Doraemon', 'Suneo', 'Nobita']\n"
          ]
        }
      ]
    },
    {
      "cell_type": "markdown",
      "source": [
        "# **DICTIONARY**"
      ],
      "metadata": {
        "id": "Mue49qBt-b5c"
      },
      "id": "Mue49qBt-b5c"
    },
    {
      "cell_type": "markdown",
      "source": [
        "Dictionary adalah data structure untuk menyimpan data jenis key-value pairs.\n",
        "dict={key:value}\n",
        "\n",
        "Biasanya digunakan untuk menyimpan data yang memilki relasi/kemiripan seperti menyimpan sebuah informasi user yang berisi ID, username, age, dll."
      ],
      "metadata": {
        "id": "XIc1bTO_-qdL"
      },
      "id": "XIc1bTO_-qdL"
    },
    {
      "cell_type": "code",
      "source": [
        "karakter_doraemon={\n",
        "    \"Doraemon\":\"Robot\",\n",
        "    \"Nobita\":\"Human\",\n",
        "    \"Giant\":\"Human\",\n",
        "    \"Suneo\":\"Human\"}"
      ],
      "metadata": {
        "id": "t86Itv3N-Xo9"
      },
      "id": "t86Itv3N-Xo9",
      "execution_count": 2,
      "outputs": []
    },
    {
      "cell_type": "markdown",
      "source": [
        "## Akses Dictionary"
      ],
      "metadata": {
        "id": "IunmQ3hs_JMc"
      },
      "id": "IunmQ3hs_JMc"
    },
    {
      "cell_type": "code",
      "source": [
        "print(\"Doraemon adalah\", karakter_doraemon[\"Doraemon\"])\n",
        "print(karakter_doraemon[\"Nobita\"])"
      ],
      "metadata": {
        "colab": {
          "base_uri": "https://localhost:8080/"
        },
        "id": "4fwBY5U4-9F-",
        "outputId": "d8310a52-f576-48e4-870c-b60d949e3a08"
      },
      "id": "4fwBY5U4-9F-",
      "execution_count": 3,
      "outputs": [
        {
          "output_type": "stream",
          "name": "stdout",
          "text": [
            "Doraemon adalah Robot\n",
            "Human\n"
          ]
        }
      ]
    },
    {
      "cell_type": "code",
      "source": [
        "print(karakter_doraemon['Doraemon'])"
      ],
      "metadata": {
        "colab": {
          "base_uri": "https://localhost:8080/"
        },
        "id": "uPwxOayyCYNz",
        "outputId": "fa446556-45af-4931-834c-02f7bb66f823"
      },
      "id": "uPwxOayyCYNz",
      "execution_count": 4,
      "outputs": [
        {
          "output_type": "stream",
          "name": "stdout",
          "text": [
            "Robot\n"
          ]
        }
      ]
    },
    {
      "cell_type": "markdown",
      "source": [
        "## Modifikasi Elemen Dictionary"
      ],
      "metadata": {
        "id": "ao2PRinC_Tq0"
      },
      "id": "ao2PRinC_Tq0"
    },
    {
      "cell_type": "code",
      "source": [
        "karakter_doraemon[\"Nobita\"]=\"Cyborg\"\n",
        "print(karakter_doraemon)"
      ],
      "metadata": {
        "colab": {
          "base_uri": "https://localhost:8080/"
        },
        "id": "RIjQyTK3_MS0",
        "outputId": "647f96a5-982a-46b2-a820-915b2064121f"
      },
      "id": "RIjQyTK3_MS0",
      "execution_count": null,
      "outputs": [
        {
          "output_type": "stream",
          "name": "stdout",
          "text": [
            "{'Doraemon': 'Robot', 'Nobita': 'Cyborg', 'Giant': 'Human', 'Suneo': 'Human'}\n"
          ]
        }
      ]
    },
    {
      "cell_type": "markdown",
      "source": [
        "## Menambahkan Elemen Dictionary"
      ],
      "metadata": {
        "id": "Of6FCcTb_cA9"
      },
      "id": "Of6FCcTb_cA9"
    },
    {
      "cell_type": "code",
      "source": [
        "karakter_doraemon[\"Shizuka\"]=\"Human\"\n",
        "print(karakter_doraemon)"
      ],
      "metadata": {
        "colab": {
          "base_uri": "https://localhost:8080/"
        },
        "id": "iC03pwim_jtw",
        "outputId": "7eac69ab-a871-4eb1-e2ad-091d3929aba0"
      },
      "id": "iC03pwim_jtw",
      "execution_count": null,
      "outputs": [
        {
          "output_type": "stream",
          "name": "stdout",
          "text": [
            "{'Doraemon': 'Robot', 'Nobita': 'Cyborg', 'Giant': 'Human', 'Suneo': 'Human', 'Shizuka': 'Human'}\n"
          ]
        }
      ]
    },
    {
      "cell_type": "markdown",
      "source": [
        "## Method dalam Dictionary"
      ],
      "metadata": {
        "id": "SKoSZTOd_2Ov"
      },
      "id": "SKoSZTOd_2Ov"
    },
    {
      "cell_type": "markdown",
      "source": [
        "* dict.keys()\n",
        "* dict.values()\n",
        "* dict.items()\n",
        "* https://docs.python.org/3/library/stdtypes.html#typesmapping"
      ],
      "metadata": {
        "id": "M3HjI95p_8gd"
      },
      "id": "M3HjI95p_8gd"
    },
    {
      "cell_type": "code",
      "source": [
        "print(karakter_doraemon.keys())\n",
        "print(karakter_doraemon.values())\n",
        "print(karakter_doraemon.items())"
      ],
      "metadata": {
        "colab": {
          "base_uri": "https://localhost:8080/"
        },
        "id": "efhUauhcAP0-",
        "outputId": "042b2bb2-f4b7-4e7b-802b-4e974e59ee9f"
      },
      "id": "efhUauhcAP0-",
      "execution_count": null,
      "outputs": [
        {
          "output_type": "stream",
          "name": "stdout",
          "text": [
            "dict_keys(['Doraemon', 'Nobita', 'Giant', 'Suneo', 'Shizuka'])\n",
            "dict_values(['Robot', 'Cyborg', 'Human', 'Human', 'Human'])\n",
            "dict_items([('Doraemon', 'Robot'), ('Nobita', 'Cyborg'), ('Giant', 'Human'), ('Suneo', 'Human'), ('Shizuka', 'Human')])\n"
          ]
        }
      ]
    },
    {
      "cell_type": "markdown",
      "source": [
        "## Menghapus Elemen Dictionary"
      ],
      "metadata": {
        "id": "XWv4XgPUAcO9"
      },
      "id": "XWv4XgPUAcO9"
    },
    {
      "cell_type": "code",
      "source": [
        "del(karakter_doraemon[\"Nobita\"])\n",
        "print(karakter_doraemon)"
      ],
      "metadata": {
        "colab": {
          "base_uri": "https://localhost:8080/"
        },
        "id": "n34HTKp6Ai6X",
        "outputId": "c12c3a55-1036-4545-8fd2-ed41e6e152e2"
      },
      "id": "n34HTKp6Ai6X",
      "execution_count": null,
      "outputs": [
        {
          "output_type": "stream",
          "name": "stdout",
          "text": [
            "{'Doraemon': 'Robot', 'Giant': 'Human', 'Suneo': 'Human', 'Shizuka': 'Human'}\n"
          ]
        }
      ]
    },
    {
      "cell_type": "markdown",
      "source": [
        "## Dictionary in Dictionaries"
      ],
      "metadata": {
        "id": "QNnpNmwjAoll"
      },
      "id": "QNnpNmwjAoll"
    },
    {
      "cell_type": "code",
      "source": [
        "karakter_doraemon={\"Doraemon\":{\"Race\":\"Robot\",\"Food\":\"Dorayaki\"},\n",
        "                   \"Nobita\":{\"Race\":\"Human\",\"Food\":\"Nasi Kebuli\"},\n",
        "                   \"Giant\":{\"Race\":\"Human\",\"Food\":\"Pecel Ayam\"},\n",
        "                   \"Suneo\":{\"Race\":\"Human\",\"Food\":\"Gado-gado\"}}\n",
        "\n",
        "print(karakter_doraemon)"
      ],
      "metadata": {
        "colab": {
          "base_uri": "https://localhost:8080/"
        },
        "id": "rz2PnMCyAtP0",
        "outputId": "573f1f30-fe86-4643-cd87-873ab9b843ad"
      },
      "id": "rz2PnMCyAtP0",
      "execution_count": null,
      "outputs": [
        {
          "output_type": "stream",
          "name": "stdout",
          "text": [
            "{'Doraemon': {'Race': 'Robot', 'Food': 'Dorayaki'}, 'Nobita': {'Race': 'Human', 'Food': 'Nasi Kebuli'}, 'Giant': {'Race': 'Human', 'Food': 'Pecel Ayam'}, 'Suneo': {'Race': 'Human', 'Food': 'Gado-gado'}}\n"
          ]
        }
      ]
    },
    {
      "cell_type": "code",
      "source": [
        "#Akses Elemen\n",
        "print(karakter_doraemon[\"Doraemon\"]['Race'])\n",
        "print(karakter_doraemon[\"Doraemon\"]['Food'])"
      ],
      "metadata": {
        "colab": {
          "base_uri": "https://localhost:8080/"
        },
        "id": "WEIlG0xyA430",
        "outputId": "e30cac1c-8b14-46fb-c91e-cc3b162b088c"
      },
      "id": "WEIlG0xyA430",
      "execution_count": null,
      "outputs": [
        {
          "output_type": "stream",
          "name": "stdout",
          "text": [
            "Robot\n",
            "Bakso\n"
          ]
        }
      ]
    },
    {
      "cell_type": "code",
      "source": [
        "#Ubah Elemen\n",
        "karakter_doraemon[\"Doraemon\"][\"Food\"]=\"Bakso\"\n",
        "print(karakter_doraemon[\"Doraemon\"][\"Food\"])"
      ],
      "metadata": {
        "colab": {
          "base_uri": "https://localhost:8080/"
        },
        "id": "ZTv1Zby0A8Fw",
        "outputId": "74df7918-559d-40ad-f9e4-416a4811c8a8"
      },
      "id": "ZTv1Zby0A8Fw",
      "execution_count": null,
      "outputs": [
        {
          "output_type": "stream",
          "name": "stdout",
          "text": [
            "Bakso\n"
          ]
        }
      ]
    },
    {
      "cell_type": "code",
      "source": [
        "#tambah elemen\n",
        "karakter_doraemon[\"Doraemon\"][\"minuman\"]=\"jus\""
      ],
      "metadata": {
        "id": "NyRQsqbYBQBO"
      },
      "id": "NyRQsqbYBQBO",
      "execution_count": null,
      "outputs": []
    },
    {
      "cell_type": "code",
      "source": [
        "print(karakter_doraemon)"
      ],
      "metadata": {
        "colab": {
          "base_uri": "https://localhost:8080/"
        },
        "id": "HAFtP3rpENsX",
        "outputId": "3b912793-64cb-4177-d4f3-aae40e5caf6e"
      },
      "id": "HAFtP3rpENsX",
      "execution_count": null,
      "outputs": [
        {
          "output_type": "stream",
          "name": "stdout",
          "text": [
            "{'Doraemon': {'Race': 'Robot', 'Food': 'Bakso', 'minuman': 'jus'}, 'Nobita': {'Race': 'Human', 'Food': 'Nasi Kebuli'}, 'Giant': {'Race': 'Human', 'Food': 'Pecel Ayam'}, 'Suneo': {'Race': 'Human', 'Food': 'Gado-gado'}, 'Shizuka': {'Race': 'Human', 'Food': 'Kurma'}}\n"
          ]
        }
      ]
    },
    {
      "cell_type": "code",
      "source": [
        "karakter_doraemon[\"Shizuka\"]={\"Race\":\"Human\",\"Food\":\"Kurma\"}"
      ],
      "metadata": {
        "id": "iRdbhGO7BT68"
      },
      "id": "iRdbhGO7BT68",
      "execution_count": null,
      "outputs": []
    },
    {
      "cell_type": "code",
      "source": [
        "karakter_doraemon[\"Shizuka\"][\"minuman\"]=\"jus\""
      ],
      "metadata": {
        "id": "FW6BmJT5BWxO"
      },
      "id": "FW6BmJT5BWxO",
      "execution_count": null,
      "outputs": []
    },
    {
      "cell_type": "code",
      "source": [
        "karakter_doraemon"
      ],
      "metadata": {
        "colab": {
          "base_uri": "https://localhost:8080/"
        },
        "id": "4zCUFc1WBY73",
        "outputId": "32405ec2-282d-4d76-e649-a3d355594124"
      },
      "id": "4zCUFc1WBY73",
      "execution_count": null,
      "outputs": [
        {
          "output_type": "execute_result",
          "data": {
            "text/plain": [
              "{'Doraemon': {'Race': 'Robot', 'Food': 'Bakso', 'minuman': 'jus'},\n",
              " 'Nobita': {'Race': 'Human', 'Food': 'Nasi Kebuli'},\n",
              " 'Giant': {'Race': 'Human', 'Food': 'Pecel Ayam'},\n",
              " 'Suneo': {'Race': 'Human', 'Food': 'Gado-gado'},\n",
              " 'Shizuka': {'Race': 'Human', 'Food': 'Kurma', 'minuman': 'jus'}}"
            ]
          },
          "metadata": {},
          "execution_count": 52
        }
      ]
    },
    {
      "cell_type": "code",
      "source": [
        "#Hapus elemen\n",
        "del(karakter_doraemon[\"Shizuka\"][\"minuman\"])\n",
        "karakter_doraemon"
      ],
      "metadata": {
        "colab": {
          "base_uri": "https://localhost:8080/"
        },
        "id": "46nGH2SNB4Xh",
        "outputId": "10939f8a-cf60-4a78-fc40-52e7a7f53d8f"
      },
      "id": "46nGH2SNB4Xh",
      "execution_count": null,
      "outputs": [
        {
          "output_type": "execute_result",
          "data": {
            "text/plain": [
              "{'Doraemon': {'Race': 'Robot', 'Food': 'Bakso', 'minuman': 'jus'},\n",
              " 'Nobita': {'Race': 'Human', 'Food': 'Nasi Kebuli'},\n",
              " 'Giant': {'Race': 'Human', 'Food': 'Pecel Ayam'},\n",
              " 'Suneo': {'Race': 'Human', 'Food': 'Gado-gado'},\n",
              " 'Shizuka': {'Race': 'Human', 'Food': 'Kurma'}}"
            ]
          },
          "metadata": {},
          "execution_count": 50
        }
      ]
    },
    {
      "cell_type": "code",
      "source": [
        "del(karakter_doraemon[\"Shizuka\"])\n",
        "karakter_doraemon"
      ],
      "metadata": {
        "colab": {
          "base_uri": "https://localhost:8080/"
        },
        "id": "N0bwwaN0B6dW",
        "outputId": "be73f0c6-84f3-4e49-9e6e-8f190fd5f604"
      },
      "id": "N0bwwaN0B6dW",
      "execution_count": null,
      "outputs": [
        {
          "output_type": "execute_result",
          "data": {
            "text/plain": [
              "{'Doraemon': {'Race': 'Robot', 'Food': 'Bakso', 'minuman': 'jus'},\n",
              " 'Nobita': {'Race': 'Human', 'Food': 'Nasi Kebuli'},\n",
              " 'Giant': {'Race': 'Human', 'Food': 'Pecel Ayam'},\n",
              " 'Suneo': {'Race': 'Human', 'Food': 'Gado-gado'}}"
            ]
          },
          "metadata": {},
          "execution_count": 53
        }
      ]
    },
    {
      "cell_type": "code",
      "source": [
        "# Melakukan Koneksasi Ke Dalam Google Drive\n",
        "from google.colab import drive\n",
        "drive.mount('/content/drive')"
      ],
      "metadata": {
        "colab": {
          "base_uri": "https://localhost:8080/"
        },
        "id": "XaS7f9RMe11o",
        "outputId": "60770e5a-e82e-45fe-929c-1f2ba8fc4811"
      },
      "id": "XaS7f9RMe11o",
      "execution_count": 5,
      "outputs": [
        {
          "output_type": "stream",
          "name": "stdout",
          "text": [
            "Mounted at /content/drive\n"
          ]
        }
      ]
    }
  ],
  "metadata": {
    "kernelspec": {
      "display_name": "Python 3 (ipykernel)",
      "language": "python",
      "name": "python3"
    },
    "language_info": {
      "codemirror_mode": {
        "name": "ipython",
        "version": 3
      },
      "file_extension": ".py",
      "mimetype": "text/x-python",
      "name": "python",
      "nbconvert_exporter": "python",
      "pygments_lexer": "ipython3",
      "version": "3.9.12"
    },
    "colab": {
      "provenance": [],
      "collapsed_sections": [
        "Mue49qBt-b5c"
      ],
      "include_colab_link": true
    }
  },
  "nbformat": 4,
  "nbformat_minor": 5
}