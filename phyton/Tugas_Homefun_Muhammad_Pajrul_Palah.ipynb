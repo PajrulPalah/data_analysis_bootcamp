{
  "nbformat": 4,
  "nbformat_minor": 0,
  "metadata": {
    "colab": {
      "provenance": [],
      "include_colab_link": true
    },
    "kernelspec": {
      "name": "python3",
      "display_name": "Python 3"
    },
    "language_info": {
      "name": "python"
    }
  },
  "cells": [
    {
      "cell_type": "markdown",
      "metadata": {
        "id": "view-in-github",
        "colab_type": "text"
      },
      "source": [
        "<a href=\"https://colab.research.google.com/github/PajrulPalah/data_analysis_bootcamp/blob/main/phyton/Tugas_Homefun_Muhammad_Pajrul_Palah.ipynb\" target=\"_parent\"><img src=\"https://colab.research.google.com/assets/colab-badge.svg\" alt=\"Open In Colab\"/></a>"
      ]
    },
    {
      "cell_type": "markdown",
      "source": [
        "<img src=\"https://www.nurulfikri.com/wp-content/uploads/2019/11/Python-logo-all.jpg\">\n",
        "\n",
        "\n",
        "\n",
        "\n",
        "\n"
      ],
      "metadata": {
        "id": "r_QEnQfja9cm"
      }
    },
    {
      "cell_type": "markdown",
      "source": [
        "# **HOMEFUN PHYTON**\n",
        "## **Created By : Muhammad Pajrul Palah**\n",
        "## **Program Muslim Millenials Bootcamp**"
      ],
      "metadata": {
        "id": "HsBj5d_25rg_"
      }
    },
    {
      "cell_type": "code",
      "source": [],
      "metadata": {
        "id": "cZ1ZboqisCTG"
      },
      "execution_count": null,
      "outputs": []
    },
    {
      "cell_type": "markdown",
      "source": [
        "> Dalam Tugas kali ini ada 15 Tugas yang akan dikerjaan sebagai lampiran berikut ini:\n",
        "> 1. Buatkan biodata kamu dengan memasukkan informasi nama, umur, pekerjaan, alamat, asal kampus/sekolah dan motto hidup. Kemudian munculkan biodata tersebut dengan menggunakan perintah print().\n",
        "2. Hitunglah luas permukaan balok dengan p = 10, l = 5 dan t =7\n",
        "3. Hitunglah apakah hasil sisa bagi bilangan 10 dan 3 sama dengan 17 dan 8.4. Hitunglah perkalian antara hasil sisa bagi bilangan 10 dan 3 dengan 17 dan 8.\n",
        "5. Buatkan 2 buah list, yang pertama berisi 10 nama makanan daerah dan yang kedua berisi 10 nama daerahnya\n",
        "6. Keluarkan nilai ketiga dari list pertama dan nilai ke 9 dari lis kedua\n",
        "7. Gabungkan kedua list yang sudah dibuat\n",
        "8. Tambahkan satu makanan baru kedalam list pertama, masukkan makanan tersebut di posisi ke lima dalam list\n",
        "9. Buat dictionary yang berisi 5 data, key nya adalah daerah dan valuenya adalah kain tradisional daerah tersebut\n",
        "10. Tambahkan elemen pada dictionary itu dengan 2 daerah dan 2 kain tradisionalnya\n",
        "11. Buatkan 3 buah set yaitu A, B dan Cyang berisi nama-nama anak indonesia, kemudian lakukan operasi himpunan pada set tersebut (1. A gabung B, 2. A irisan C, 3. A gabung C irisan B)\n",
        "12. Buatkan fungsi untuk menghitung luas bangun datar layang-layang\n",
        "13. Buatkan kondisional if else untuk menentukan ranking seseorang, dengan ketentuan (rank A memiliki nilai  < 80, rank B memiliki nilai diantara 70 sampai 79, rank C memiliki nilai diantara 60 sampai 69 dan rank D memiliki nilai < 60)\n",
        "14. Buatkan numpy array dengan dimensi (3, 5) dan gabungkan dengan numpy array dengan dimensi (5, 1)\n",
        "15. Bacalah sebuah data apapun itu dengan module pandas, kemudian berikan gambaran datanya dalam bentuk kalimat."
      ],
      "metadata": {
        "id": "Gy0eK_J6bXge"
      }
    },
    {
      "cell_type": "markdown",
      "source": [
        "### **1. Biodata Penulis**\n",
        "\n",
        "\n",
        "\n",
        "Dalam bagian ini penulis akan memberikan informasi berupa :\n",
        "* Nama Lengkap,\n",
        "* Umur,\n",
        "* Pekerjaan,\n",
        "* Alamat,\n",
        "* Asal Kampus/Sekolah dan\n",
        "*  Motto Hidup Jika Hidup :)"
      ],
      "metadata": {
        "id": "cvzOvOqphTh1"
      }
    },
    {
      "cell_type": "code",
      "source": [
        "# Biodata Penulis\n",
        "\"\"\"\n",
        "Nama Saya Adalah Muhammad Pajrul Palah Lahir Di Karawang\n",
        "Hobi Saya Bermain Bola yang berhubungan dengan bola saya suka\n",
        "dan ini adalah contoh komentar multi-baris (lines)\n",
        "\"\"\"\n",
        "# langsung praktik data diri dengan phyton\n",
        "nama_depan = \"Muhammad\"\n",
        "nama_tengah = \"pajrul\"\n",
        "nama_belakang = \"Palah\"\n",
        "nama_saya = nama_depan +\" \"+ nama_tengah +\" \"+ nama_belakang\n",
        "from datetime import datetime\n",
        "tahun_lahir = 2001\n",
        "tahun_sekarang = datetime.now().year\n",
        "umur = tahun_sekarang - tahun_lahir\n",
        "pekerjaan = \"Pengacara (Pengangguran Banyak Acara)\"\n",
        "alamat = \"kota industri terbaik di jawa barat\"\n",
        "asal_kampus = \"President University tapi bukan anak Presiden\"\n",
        "motto_hidup = \"Berlomba-lomba dalam kebaikan, life is a test and trust, starts small think big and big impact\"\n",
        "\n",
        "# running code\n",
        "print(\"Nama Saya :\",nama_saya)\n",
        "print(\"Umur Saya :\", umur)\n",
        "print(\"Pekerjaan Saya :\", pekerjaan)\n",
        "print(\"Alamat Saya\", alamat)\n",
        "print(\"Asal Kampus :\", asal_kampus)\n",
        "print(\"Motto Hidup Saya :\", motto_hidup)\n",
        "\n"
      ],
      "metadata": {
        "colab": {
          "base_uri": "https://localhost:8080/"
        },
        "id": "y0fsjYEHjDDL",
        "outputId": "58b80ff7-c6e5-4311-c606-15da19b79d3a"
      },
      "execution_count": null,
      "outputs": [
        {
          "output_type": "stream",
          "name": "stdout",
          "text": [
            "Nama Saya : Muhammad pajrul Palah\n",
            "Umur Saya : 22\n",
            "Pekerjaan Saya : Pengacara (Pengangguran Banyak Acara)\n",
            "Alamat Saya kota industri terbaik di jawa barat\n",
            "Asal Kampus : President University tapi bukan anak Presiden\n",
            "Motto Hidup Saya : Berlomba-lomba dalam kebaikan, life is a test and trust, starts small think big and big impact\n"
          ]
        }
      ]
    },
    {
      "cell_type": "code",
      "source": [
        "# karena belum rapi kita coba revisi\n",
        "# Mencari panjang terpanjang dari label\n",
        "panjang_label_terpanjang = max(len(\"Nama Saya\"), len(\"Umur Saya\"), len(\"Pekerjaan Saya\"), len(\"Alamat Saya\"), len(\"Asal Kampus\"), len(\"Motto Hidup Saya\"))\n",
        "\n",
        "# Membuat format cetak\n",
        "format_cetak = \"{:<\" + str(panjang_label_terpanjang) + \"}: {}\"\n",
        "\n",
        "# Menampilkan data\n",
        "print(\"Biodata Penulis\")\n",
        "print(format_cetak.format(\"Nama Saya\", nama_saya))\n",
        "print(format_cetak.format(\"Umur Saya\", umur))\n",
        "print(format_cetak.format(\"Pekerjaan Saya\", pekerjaan))\n",
        "print(format_cetak.format(\"Alamat Saya\", alamat))\n",
        "print(format_cetak.format(\"Asal Kampus\", asal_kampus))\n",
        "print(format_cetak.format(\"Motto Hidup Saya\", motto_hidup))\n"
      ],
      "metadata": {
        "colab": {
          "base_uri": "https://localhost:8080/"
        },
        "id": "aJc5FytItvsj",
        "outputId": "1f4cb6b2-47b3-469d-a9cc-1e75f4c000c6"
      },
      "execution_count": null,
      "outputs": [
        {
          "output_type": "stream",
          "name": "stdout",
          "text": [
            "Biodata Penulis\n",
            "Nama Saya       : Muhammad Pajrul Palah\n",
            "Umur Saya       : 22\n",
            "Pekerjaan Saya  : Pengacara (Pengangguran Banyak Acara)\n",
            "Alamat Saya     : kota industri terbaik di jawa barat\n",
            "Asal Kampus     : President University tapi bukan anak Presiden\n",
            "Motto Hidup Saya: Berlomba-lomba dalam kebaikan, life is a test and trust, starts small think big and big impact\n"
          ]
        }
      ]
    },
    {
      "cell_type": "markdown",
      "source": [
        "### **2. Menghitung Luas**\n",
        "Pada contoh kasus dalam luas permukaan balok dengan p = 10, l = 5 dan t =7"
      ],
      "metadata": {
        "id": "Zt4Z8BnfvVSz"
      }
    },
    {
      "cell_type": "code",
      "source": [
        "# kasus luar permukaan balok\n",
        "# diketahui p = panjang l = lebar dan t = tinggi\n",
        "# dan nilai p, l dan t sebagai berikut:\n",
        "p = 10\n",
        "l = 5\n",
        "t = 7\n",
        "# rumus luas permukaan balok adalah : luas_permukaan = 2 * (p * l + p * t + l * t)\n",
        "# maka:\n",
        "2 * ((p * l) + (p * t) + (l * t))\n",
        "#menggunakan variabel\n",
        "hasil = 2 * ((p * l) + (p * t) + (l * t))\n",
        "print(\"Hasil luas permukaan balok adalah =\", hasil)\n",
        "## sekalian volume\n",
        "volume = p * l * t\n",
        "print(\"Hasil volume balok adalah =\", volume)"
      ],
      "metadata": {
        "colab": {
          "base_uri": "https://localhost:8080/"
        },
        "id": "nGMRyoGkyw1a",
        "outputId": "0d72c60e-fdd1-449d-8bc1-1a69765df154"
      },
      "execution_count": null,
      "outputs": [
        {
          "output_type": "stream",
          "name": "stdout",
          "text": [
            "Hasil luas permukaan balok adalah = 310\n",
            "Hasil volume balok adalah = 350\n"
          ]
        }
      ]
    },
    {
      "cell_type": "markdown",
      "source": [
        "### **3. Menghitung Hasil Sisa Bagi Bilangan**\n",
        "Apakah hasil sisa bagi bilangan 10 dan 3 sama dengan 17 dan 8.4. Hitunglah perkalian antara hasil sisa bagi bilangan 10 dan 3 dengan 17 dan 8.4 ?\n"
      ],
      "metadata": {
        "id": "cDbHO6Cz1ToA"
      }
    },
    {
      "cell_type": "code",
      "source": [
        "# Menghitung hasil sisa bagi bilangan menggunakan operator % pada kasus di atas dapat dikerjakan sebagai berikut:\n",
        "\n",
        "# Menghitung hasil sisa bagi bilangan 10 dan 3\n",
        "sisa_10_dan_3 = 10 % 3\n",
        "\n",
        "# Menghitung hasil sisa bagi bilangan 17 dan 8.4\n",
        "sisa_17_dan_8_4 = 17 % 8.4\n",
        "\n",
        "# Apakah hasil sisa bagi kedua itu sama mari kita buktikan\n",
        "sama = sisa_10_dan_3 == sisa_17_dan_8_4\n",
        "\n",
        "# Perkalian Antara hasil sisa bagi 10 dan 3 dengan 17 dan 8.4 sebagai berikut :\n",
        "perkalian = sisa_10_dan_3 * sisa_17_dan_8_4\n",
        "\n",
        "# Maka Hasilnya adalah\n",
        "# Menggunakan satu perintah print\n",
        "print(f\"Hasil sisa bagi 10 dibagi (%) 3 = {sisa_10_dan_3}\\n\"\n",
        "      f\"Hasil sisa bagi 17 dibagi (%) 8.4 = {sisa_17_dan_8_4 }\\n\"\n",
        "      f\"Apakah hasil sisa bagi sama?= {sama}\\n\"\n",
        "      f\"Perkalian hasil sisa bagi antara 10 & 3 dengan 17 & 8.4 = {perkalian}\")\n",
        "\n"
      ],
      "metadata": {
        "colab": {
          "base_uri": "https://localhost:8080/"
        },
        "id": "sTfxe7CL3ENh",
        "outputId": "9329b437-9be8-4e67-8890-87530d5e1805"
      },
      "execution_count": null,
      "outputs": [
        {
          "output_type": "stream",
          "name": "stdout",
          "text": [
            "Hasil sisa bagi 10 dibagi (%) 3 = 1\n",
            "Hasil sisa bagi 17 dibagi (%) 8.4 = 0.1999999999999993\n",
            "Apakah hasil sisa bagi sama?= False\n",
            "Perkalian hasil sisa bagi antara 10 & 3 dengan 17 & 8.4 = 0.1999999999999993\n"
          ]
        }
      ]
    },
    {
      "cell_type": "markdown",
      "source": [
        "### **4. Membuat List**\n",
        "No 4 nya tidak ada  \n",
        "Buatkan 2 buah list, yang pertama berisi 10 nama makanan daerah dan yang kedua berisi 10 nama daerahnya"
      ],
      "metadata": {
        "id": "yt0VXr1yAyS6"
      }
    },
    {
      "cell_type": "code",
      "source": [
        "# Membuat list makanan dan asal dan asal daerahnya khusus untuk khas Jawa Barat\n",
        "makanan_khas_jawabarat = [\n",
        "    \"Mie Kocok Bandung\",\n",
        "    \"Sate Maranggi Hj Yetti\",\n",
        "    \"Lapis Talas Bogor\",\n",
        "    \"Dodol Chocodot\",\n",
        "    \"Tauco\",\n",
        "    \"Citruk\",\n",
        "    \"Empal Gentong\",\n",
        "    \"Bacetrok\",\n",
        "    \"Nasi Tutug Oncom\",\n",
        "    \"Nasi Lengko\"\n",
        "]\n",
        "asal_daerah = [\n",
        "    \"Bandung\",\n",
        "    \"Purwakarta\",\n",
        "    \"Bogor\",\n",
        "    \"Garut\",\n",
        "    \"Cianjur\",\n",
        "    \"Tasikmalaya\",\n",
        "    \"Cirebon\",\n",
        "    \"Karawang\",\n",
        "    \"Sukabumi\",\n",
        "    \"Indramayu\"\n",
        "]\n",
        "\n",
        "print(makanan_khas_jawabarat)\n",
        "print(asal_daerah)\n",
        "\n"
      ],
      "metadata": {
        "id": "YjPYQ4LVBDcy",
        "colab": {
          "base_uri": "https://localhost:8080/"
        },
        "outputId": "4bcb947d-881b-4606-a844-4ab893915bf1"
      },
      "execution_count": null,
      "outputs": [
        {
          "output_type": "stream",
          "name": "stdout",
          "text": [
            "['Mie Kocok Bandung', 'Sate Maranggi Hj Yetti', 'Lapis Talas Bogor', 'Dodol Chocodot', 'Tauco', 'Citruk', 'Empal Gentong', 'Bacetrok', 'Nasi Tutug Oncom', 'Nasi Lengko']\n",
            "['Bandung', 'Purwakarta', 'Bogor', 'Garut', 'Cianjur', 'Tasikmalaya', 'Cirebon', 'Karawang', 'Sukabumi', 'Indramayu']\n"
          ]
        }
      ]
    },
    {
      "cell_type": "markdown",
      "source": [
        "### **5. Mengeluarkan Nilai Dari List**\n",
        "Keluarkan nilai ketiga dari list pertama dan nilai ke 9 dari list kedua"
      ],
      "metadata": {
        "id": "oIWVVV0peU8A"
      }
    },
    {
      "cell_type": "code",
      "source": [
        "# Mengakses nilai dari list\n",
        "# Perlu diingat index list dimulai dari angka nol\n",
        "# Maka angka list nilai ke-3 = [2] dan list nilai ke-9 = [8]\n",
        "\n",
        "# Mengakses nilai ketiga dari list pertama (indeks 2)\n",
        "nilai_pertama = makanan_khas_jawabarat[2]\n",
        "\n",
        "# Mengakses nilai kesembilan dari list kedua (indeks 8)\n",
        "nilai_kedua = asal_daerah[8]\n",
        "\n",
        "print(\"Nilai ketiga dari list pertama =\", nilai_pertama)\n",
        "print(\"Nilai kesembilan dari list kedua =\", nilai_kedua)\n"
      ],
      "metadata": {
        "colab": {
          "base_uri": "https://localhost:8080/"
        },
        "id": "-bZ7pcJPeqTq",
        "outputId": "0aa880da-ecd0-4853-b8a3-5c55938f7f4c"
      },
      "execution_count": null,
      "outputs": [
        {
          "output_type": "stream",
          "name": "stdout",
          "text": [
            "Nilai ketiga dari list pertama = Lapis Talas Bogor\n",
            "Nilai kesembilan dari list kedua = Sukabumi\n"
          ]
        }
      ]
    },
    {
      "cell_type": "markdown",
      "source": [
        "### **6. Menggabungkan Kedua List**\n",
        "Gabungkan kedua list yang sudah dibuat"
      ],
      "metadata": {
        "id": "4Hi_SgtJf9rq"
      }
    },
    {
      "cell_type": "code",
      "source": [
        "# List makanan khas Jawa Barat\n",
        "makanan_khas_jawabarat = [\n",
        "    \"Mie Kocok Bandung\",\n",
        "    \"Sate Maranggi Hj Yetti\",\n",
        "    \"Lapis Talas Bogor\",\n",
        "    \"Dodol Chocodot\",\n",
        "    \"Tauco\",\n",
        "    \"Citruk\",\n",
        "    \"Empal Gentong\",\n",
        "    \"Bacetrok\",\n",
        "    \"Nasi Tutug Oncom\",\n",
        "    \"Nasi Lengko\"\n",
        "]\n",
        "\n",
        "# List asal daerah\n",
        "asal_daerah = [\n",
        "    \"Bandung\",\n",
        "    \"Purwakarta\",\n",
        "    \"Bogor\",\n",
        "    \"Garut\",\n",
        "    \"Cianjur\",\n",
        "    \"Tasikmalaya\",\n",
        "    \"Cirebon\",\n",
        "    \"Karawang\",\n",
        "    \"Sukabumi\",\n",
        "    \"Indramayu\"\n",
        "]\n",
        "\n",
        "# Menggabungkan kedua list\n",
        "gabungkan_makanan_asal_daerah = makanan_khas_jawabarat + asal_daerah\n",
        "\n",
        "print(gabungkan_makanan_asal_daerah)\n"
      ],
      "metadata": {
        "colab": {
          "base_uri": "https://localhost:8080/"
        },
        "id": "om8pyMKmgN-Q",
        "outputId": "cf477c59-fa3f-4cc5-c8bc-7d2743d2c4c5"
      },
      "execution_count": null,
      "outputs": [
        {
          "output_type": "stream",
          "name": "stdout",
          "text": [
            "['Mie Kocok Bandung', 'Sate Maranggi Hj Yetti', 'Lapis Talas Bogor', 'Dodol Chocodot', 'Tauco', 'Citruk', 'Empal Gentong', 'Bacetrok', 'Nasi Tutug Oncom', 'Nasi Lengko', 'Bandung', 'Purwakarta', 'Bogor', 'Garut', 'Cianjur', 'Tasikmalaya', 'Cirebon', 'Karawang', 'Sukabumi', 'Indramayu']\n"
          ]
        }
      ]
    },
    {
      "cell_type": "code",
      "source": [
        "# Menggabungkan menjadi berderet\n",
        "makanan_dan_daerah = []\n",
        "for i in range(len(makanan_khas_jawabarat)):\n",
        "    makanan = makanan_khas_jawabarat[i]\n",
        "    daerah = asal_daerah[i]\n",
        "    makanan_dan_daerah.append(f\"{makanan} ({daerah})\")\n",
        "\n",
        "# Menampilkan hasil penggabungan\n",
        "for item in makanan_dan_daerah:\n",
        "    print(item)"
      ],
      "metadata": {
        "colab": {
          "base_uri": "https://localhost:8080/"
        },
        "id": "oUqKFFYYi1Yu",
        "outputId": "8c3da347-a922-4a61-8752-11f8056b2aa1"
      },
      "execution_count": null,
      "outputs": [
        {
          "output_type": "stream",
          "name": "stdout",
          "text": [
            "Mie Kocok Bandung (Bandung)\n",
            "Sate Maranggi Hj Yetti (Purwakarta)\n",
            "Lapis Talas Bogor (Bogor)\n",
            "Dodol Chocodot (Garut)\n",
            "Jambal roti (Pangandaran)\n",
            "Tauco (Cianjur)\n",
            "Citruk (Tasikmalaya)\n",
            "Empal Gentong (Cirebon)\n",
            "Bacetrok (Karawang)\n",
            "Nasi Tutug Oncom (Sukabumi)\n",
            "Nasi Lengko (Indramayu)\n"
          ]
        }
      ]
    },
    {
      "cell_type": "markdown",
      "source": [
        "### **7. Melakukan Insert Pada List**\n",
        "## Tambahkan satu makanan baru kedalam list pertama, masukkan makanan tersebut di posisi ke lima dalam list"
      ],
      "metadata": {
        "id": "2SW-whLTjdBD"
      }
    },
    {
      "cell_type": "code",
      "source": [
        "# Makanan baru dan asal daerah baru\n",
        "makanan_baru = \"Jambal Roti\"\n",
        "daerah_baru = \"Pangandaran\"\n",
        "\n",
        "# Memasukkan makanan baru ke dalam list pertama pada posisi kelima berarti index = [4]\n",
        "makanan_khas_jawabarat.insert(4, makanan_baru)\n",
        "asal_daerah.insert(4, daerah_baru)\n",
        "\n",
        "# Mencetak list yang telah diperbarui\n",
        "print(\"List makanan khas Jawa Barat (setelah penambahan):\")\n",
        "print(makanan_khas_jawabarat)\n",
        "\n",
        "print(\"List asal daerah (setelah penambahan):\")\n",
        "print(asal_daerah)\n",
        "\n"
      ],
      "metadata": {
        "colab": {
          "base_uri": "https://localhost:8080/"
        },
        "id": "hZ1VQ37NlM_E",
        "outputId": "a21d60c7-75cc-4227-9c61-f5fe6d12c3ee"
      },
      "execution_count": null,
      "outputs": [
        {
          "output_type": "stream",
          "name": "stdout",
          "text": [
            "List makanan khas Jawa Barat (setelah penambahan):\n",
            "['Mie Kocok Bandung', 'Sate Maranggi Hj Yetti', 'Lapis Talas Bogor', 'Dodol Chocodot', 'Jambal Roti', 'Jambal roti', 'Tauco', 'Citruk', 'Empal Gentong', 'Bacetrok', 'Nasi Tutug Oncom', 'Nasi Lengko']\n",
            "List asal daerah (setelah penambahan):\n",
            "['Bandung', 'Purwakarta', 'Bogor', 'Garut', 'Pangandaran', 'Pangandaran', 'Cianjur', 'Tasikmalaya', 'Cirebon', 'Karawang', 'Sukabumi', 'Indramayu']\n"
          ]
        }
      ]
    },
    {
      "cell_type": "markdown",
      "source": [
        "### **8. Membuat Dictionary**\n",
        "Buat dictionary yang berisi 5 data, key nya adalah daerah dan valuenya adalah kain tradisional daerah tersebut"
      ],
      "metadata": {
        "id": "LeEVVR2al5sN"
      }
    },
    {
      "cell_type": "code",
      "source": [
        "kain_tradisional = {\n",
        "    \"Jawa Barat\": \"Batik Mega Mendung Cirebon\",\n",
        "    \"Riau\": \"Tenun Siak\",\n",
        "    \"Aceh\": \"Kerawang Gayo\",\n",
        "    \"Kalimantan Barat\": \"Kain Sintang / Ikat Dayak\",\n",
        "    \"Nusa Tenggara Timur\": \"Kain Tenun Ikat\"\n",
        "}\n",
        "print(kain_tradisional)\n"
      ],
      "metadata": {
        "colab": {
          "base_uri": "https://localhost:8080/"
        },
        "id": "b-opEDmxmc81",
        "outputId": "837d5f6e-320a-4123-bce4-1c8f2589d1b9"
      },
      "execution_count": null,
      "outputs": [
        {
          "output_type": "stream",
          "name": "stdout",
          "text": [
            "{'Jawa Barat': 'Batik Mega Mendung Cirebon', 'Riau': 'Tenun Siak', 'Aceh': 'Kerawang Gayo', 'Kalimantan Barat': 'Kain Sintang / Ikat Dayak', 'Nusa Tenggara Timur': 'Kain Tenun Ikat'}\n"
          ]
        }
      ]
    },
    {
      "cell_type": "markdown",
      "source": [
        "### **9. Menambahkan Elemen Pada Dictionary**\n",
        "Tambahkan elemen pada dictionary itu dengan 2 daerah dan 2 kain tradisionalnya\n"
      ],
      "metadata": {
        "id": "4VibinsEox9G"
      }
    },
    {
      "cell_type": "code",
      "source": [
        "# Menambahkan dua elemen ke dalam dictionary\n",
        "kain_tradisional[\"Bali\"] = \"Kain Poleng\"\n",
        "kain_tradisional[\"Sulawesi Selatan\"] = \"Lipa Sabbe\"\n",
        "\n",
        "# Mencetak dictionary yang telah diperbarui setelah penambahan\n",
        "print(kain_tradisional)"
      ],
      "metadata": {
        "colab": {
          "base_uri": "https://localhost:8080/"
        },
        "id": "d-NZ4colpFX1",
        "outputId": "a06faf6c-3fbb-4bd5-857f-e549afdc8da3"
      },
      "execution_count": null,
      "outputs": [
        {
          "output_type": "stream",
          "name": "stdout",
          "text": [
            "{'Jawa Barat': 'Batik Mega Mendung Cirebon', 'Riau': 'Tenun Siak', 'Aceh': 'Kerawang Gayo', 'Kalimantan Barat': 'Kain Sintang / Ikat Dayak', 'Nusa Tenggara Timur': 'Kain Tenun Ikat', 'Bali': 'Kain Poleng', 'Sulawesi Selatan': 'Lipa Sabbe'}\n"
          ]
        }
      ]
    },
    {
      "cell_type": "markdown",
      "source": [
        "### **10. Melakukan Operasi Himpunan Pada 3 Buah Data Set**\n",
        "\n",
        "Buatkan 3 buah set yaitu A, B dan Cyang berisi nama-nama anak indonesia, kemudian lakukan operasi himpunan pada set tersebut (1. A gabung B, 2. A irisan C, 3. A gabung C irisan B)"
      ],
      "metadata": {
        "id": "hiHXk2Awr3pO"
      }
    },
    {
      "cell_type": "code",
      "source": [
        "# Set A berisi nama-nama anak Sunda Pride\n",
        "A = {\"Encep\", \"Udin\", \"Asep\", \"Esih\", \"Pajrul\"}\n",
        "\n",
        "# Set B berisi nama-nama anak Sunda Pride\n",
        "B = {\"Nopi\", \"Asep\", \"Tatang\", \"Aceng\", \"Eis\"}\n",
        "\n",
        "# Set C berisi nama-nama anak Sunda Pride\n",
        "C = {\"Esih\", \"Titi\", \"Tatang\", \"Pajrul\", \"Encep\"}\n",
        "\n",
        "\n",
        "\n",
        "# Operasi himpunan:\n",
        "# 1. A gabung B\n",
        "gabung_AB = A.union(B)\n",
        "\n",
        "# 2. A irisan C\n",
        "irisan_AC = A.intersection(C)\n",
        "\n",
        "# 3. A gabung (C irisan B)\n",
        "gabung_AC_irisan_B = A.union(C.intersection(B))\n",
        "\n",
        "# Mencetak hasil operasi himpunan\n",
        "print(\"1. A gabung B:\", gabung_AB)\n",
        "print(\"2. A irisan C:\", irisan_AC)\n",
        "print(\"3. A gabung (C irisan B):\", gabung_AC_irisan_B)\n"
      ],
      "metadata": {
        "colab": {
          "base_uri": "https://localhost:8080/"
        },
        "id": "MA5luVyesA_i",
        "outputId": "9ab5c97b-42a9-4152-fd2a-467d5e828e68"
      },
      "execution_count": null,
      "outputs": [
        {
          "output_type": "stream",
          "name": "stdout",
          "text": [
            "1. A gabung B: {'Udin', 'Pajrul', 'Tatang', 'Eis', 'Asep', 'Nopi', 'Esih', 'Aceng', 'Encep'}\n",
            "2. A irisan C: {'Encep', 'Pajrul', 'Esih'}\n",
            "3. A gabung (C irisan B): {'Tatang', 'Asep', 'Esih', 'Encep', 'Udin', 'Pajrul'}\n"
          ]
        }
      ]
    },
    {
      "cell_type": "markdown",
      "source": [
        "### **11. Menghitung Luas Bangun Layang-Layang**\n",
        "Buatkan fungsi untuk menghitung luas bangun datar layang-layang.\n",
        "\n"
      ],
      "metadata": {
        "id": "_qaCcklTxlRw"
      }
    },
    {
      "cell_type": "code",
      "source": [
        "\"\"\"\n",
        "Untuk menghitung luas bangun datar layang-layang, Anda dapat menggunakan rumus:\n",
        "\n",
        "Luas = 1/2 * (d1 * d2)\n",
        "\n",
        "di mana:\n",
        "d1 adalah panjang diagonal pertama.\n",
        "d2 adalah panjang diagonal kedua.\n",
        "Jika diketahui bahwa panjangan diagonal pertama [d1] adalah 65 cm\n",
        "dan panjang diagonal kedua [d2] adalah 42 cm\n",
        "\"\"\"\n",
        "# Mulai Menhitung\n",
        "d1 = 65\n",
        "d2 = 42\n",
        "luas_layang_layang = (d1 * d2)/2\n",
        "print(luas_layang_layang)\n",
        "\n",
        "# atau dengan cara lainnya dan nilai float\n",
        "def luas_layang_layang(d1, d2):\n",
        "    luas = (d1 * d2) / 2\n",
        "    return luas\n",
        "panjang_diagonal1 = 65.68\n",
        "panjang_diagonal2 = 42.91\n",
        "hasil_luas = luas_layang_layang(panjang_diagonal1, panjang_diagonal2)\n",
        "\n",
        "# Menggunakan fungsi round 4 angka di belakang koma\n",
        "hasil_luas_round = round(hasil_luas,4)\n",
        "print(\"Luas layang-layang adalah:\", hasil_luas_round)\n"
      ],
      "metadata": {
        "colab": {
          "base_uri": "https://localhost:8080/"
        },
        "id": "CpQ3vs46x5RD",
        "outputId": "8c396a7d-12ec-40b4-961c-58a43b34efc2"
      },
      "execution_count": null,
      "outputs": [
        {
          "output_type": "stream",
          "name": "stdout",
          "text": [
            "1365.0\n",
            "Luas layang-layang adalah: 1409.1644\n"
          ]
        }
      ]
    },
    {
      "cell_type": "markdown",
      "source": [
        "### **12. Membuat Kondisi IF Else**\n",
        "Buatkan kondisional if else untuk menentukan ranking seseorang, dengan ketentuan (rank A memiliki nilai  < 80, rank B memiliki nilai diantara 70 sampai 79, rank C memiliki nilai diantara 60 sampai 69 dan rank D memiliki nilai < 60)"
      ],
      "metadata": {
        "id": "o_26pa171pZg"
      }
    },
    {
      "cell_type": "code",
      "source": [
        "# Mendefinisikan nilai\n",
        "nilai = 91\n",
        "\n",
        "# Menentukan ranking\n",
        "if nilai < 60:\n",
        "    ranking = \"Rank D\"\n",
        "    pesan = \"Tidak Lulus Wajib Remed\"\n",
        "    pesan_1 = \"Ada yang salah dengan anda!\"\n",
        "elif 60 <= nilai < 70:\n",
        "    ranking = \"Rank C\"\n",
        "    pesan = \"Tidak Lulus Wajib Remed\"\n",
        "    pesan_1 = \"Kurang Semangat\"\n",
        "elif 70 <= nilai < 80:\n",
        "    ranking = \"Rank B\"\n",
        "    pesan = \"Lulus\"\n",
        "    pesan_1 = \"Cukup Bangga Orangtua Mu Nak!\"\n",
        "elif 80 <= nilai <= 90:\n",
        "    ranking = \"Rank A\"\n",
        "    pesan = \"Lulus\"\n",
        "    pesan_1 = \"Anak Rajin Kebanggaan Sekolah Nih\"\n",
        "else:\n",
        "    ranking = \"Rank A\"\n",
        "    pesan = \"Lulus\"\n",
        "    pesan_1 = \"Cerdas Paten Kali Lah\"\n",
        "\n",
        "# Menampilkan ranking dan pesan\n",
        "print(\"Nilai Anda:\", nilai)\n",
        "print(\"Ranking Anda:\", ranking)\n",
        "print(\"Pesan:\", pesan)\n",
        "print(\"Wejangan:\", pesan_1)"
      ],
      "metadata": {
        "colab": {
          "base_uri": "https://localhost:8080/"
        },
        "id": "gT1GCMRA2DQM",
        "outputId": "055de3e9-7d6e-4dff-b431-abda13cff45f"
      },
      "execution_count": null,
      "outputs": [
        {
          "output_type": "stream",
          "name": "stdout",
          "text": [
            "Nilai Anda: 91\n",
            "Ranking Anda: Rank A\n",
            "Pesan: Lulus\n",
            "Wejangan: Cerdas Paten Kali Lah\n"
          ]
        }
      ]
    },
    {
      "cell_type": "markdown",
      "source": [
        "### **13. Membuat Numpy Array**\n",
        "Buatkan numpy array dengan dimensi (3, 5) dan gabungkan dengan numpy array dengan dimensi (5, 1)"
      ],
      "metadata": {
        "id": "76PTg8v-8NG3"
      }
    },
    {
      "cell_type": "code",
      "source": [
        "import numpy as np\n",
        "\n",
        "# Membuat numpy array dengan dimensi (3, 5)\n",
        "array_1 = np.array([\n",
        "                    [1, 2, 3, 4, 5],\n",
        "                    [6, 7, 8, 9, 10],\n",
        "                    [11, 12, 13, 14, 15]\n",
        "                    ])\n",
        "\n",
        "# Membuat numpy array dengan dimensi (5, 1) kayanya dimensi [1,5] yang bener\n",
        "\n",
        "array_2 = np.array([\n",
        "                    #\n",
        "                    [16,17,18,19,20]\n",
        "                    ])\n",
        "\n",
        "np.concatenate([array_1, array_2])\n"
      ],
      "metadata": {
        "colab": {
          "base_uri": "https://localhost:8080/"
        },
        "id": "vftlrcnC8ef3",
        "outputId": "90e70e46-b31e-4f8b-da66-fe1255c86c1c"
      },
      "execution_count": null,
      "outputs": [
        {
          "output_type": "execute_result",
          "data": {
            "text/plain": [
              "array([[ 1,  2,  3,  4,  5],\n",
              "       [ 6,  7,  8,  9, 10],\n",
              "       [11, 12, 13, 14, 15],\n",
              "       [16, 17, 18, 19, 20]])"
            ]
          },
          "metadata": {},
          "execution_count": 56
        }
      ]
    },
    {
      "cell_type": "code",
      "source": [
        "# sekarang kita samakan dimensi row nya pada contoh berikut\n",
        "\n",
        "# Mengganti numpy array dengan dimensi (5, 3)\n",
        "array_1 = np.array([[1, 2, 3],\n",
        "                    [4, 5, 6],\n",
        "                    [7, 8, 9],\n",
        "                    [10,11,12],\n",
        "                    [13,14,15]])\n",
        "\n",
        "# Membuat numpy array dengan dimensi (5, 1)\n",
        "array_2 = np.array([[16],\n",
        "                    [17],\n",
        "                    [18],\n",
        "                    [19],\n",
        "                    [20]\n",
        "                    ])\n",
        "\n",
        "# Menggabungkan kedua array tapi secara horizontal\n",
        "gabung_array = np.hstack((array_1, array_2))\n",
        "\n",
        "\n",
        "# Mencetak hasil gabungan\n",
        "print(\"Array hasil gabungan:\")\n",
        "print(gabung_array)\n"
      ],
      "metadata": {
        "colab": {
          "base_uri": "https://localhost:8080/"
        },
        "id": "SPp3Je579byA",
        "outputId": "c52c3908-33a3-4693-b2cd-856b2a14847b"
      },
      "execution_count": null,
      "outputs": [
        {
          "output_type": "stream",
          "name": "stdout",
          "text": [
            "Array hasil gabungan:\n",
            "[[ 1  2  3 16]\n",
            " [ 4  5  6 17]\n",
            " [ 7  8  9 18]\n",
            " [10 11 12 19]\n",
            " [13 14 15 20]]\n"
          ]
        }
      ]
    },
    {
      "cell_type": "markdown",
      "source": [
        "**Jadi Pada Intinya rownya harus sama agar bisa digabungkan (joining). kayanya sih gitu saya juga puyeung udah coba berapa kali belum menemukan pencerahan**"
      ],
      "metadata": {
        "id": "AlfD7BJVE75Z"
      }
    },
    {
      "cell_type": "markdown",
      "source": [
        "### **14. Membaca Data Dengan Module Pandas AS pd**\n",
        "Bacalah sebuah data apapun itu dengan module pandas, kemudian berikan gambaran datanya dalam bentuk kalimat."
      ],
      "metadata": {
        "id": "z1HpY37SFSAV"
      }
    },
    {
      "cell_type": "code",
      "source": [
        "# Menggunakan Module Pandas\n",
        "import pandas as pd\n",
        "\n",
        "# Membaca file CSV\n",
        "data = pd.read_csv(\"movies-db.csv\")\n",
        "\n",
        "# Menampilkan informasi umum tentang data\n",
        "print(\"Informasi Umum:\")\n",
        "data.info()\n",
        "\n",
        "# Menampilkan beberapa baris pertama data\n",
        "print(\"\\nBeberapa Baris Pertama Data:\")\n",
        "print(data.head())\n",
        "\n",
        "# Menampilkan ringkasan statistik data\n",
        "print(\"\\nRingkasan Statistik Data:\")\n",
        "print(data.describe())\n"
      ],
      "metadata": {
        "colab": {
          "base_uri": "https://localhost:8080/"
        },
        "id": "ed6Jk8rEIeQa",
        "outputId": "d378638f-49f2-44a3-fedc-a1d05b83bbbe"
      },
      "execution_count": null,
      "outputs": [
        {
          "output_type": "stream",
          "name": "stdout",
          "text": [
            "Informasi Umum:\n",
            "<class 'pandas.core.frame.DataFrame'>\n",
            "RangeIndex: 30 entries, 0 to 29\n",
            "Data columns (total 8 columns):\n",
            " #   Column           Non-Null Count  Dtype  \n",
            "---  ------           --------------  -----  \n",
            " 0   name             30 non-null     object \n",
            " 1   year             30 non-null     int64  \n",
            " 2   length_min       30 non-null     int64  \n",
            " 3   genre            30 non-null     object \n",
            " 4   average_rating   30 non-null     float64\n",
            " 5   cost_millions    30 non-null     float64\n",
            " 6   foreign          30 non-null     int64  \n",
            " 7   age_restriction  30 non-null     int64  \n",
            "dtypes: float64(2), int64(4), object(2)\n",
            "memory usage: 2.0+ KB\n",
            "\n",
            "Beberapa Baris Pertama Data:\n",
            "                 name  year  length_min      genre  average_rating  \\\n",
            "0           Toy Story  1995          81  Animation             8.3   \n",
            "1               Akira  1998         125  Animation             8.1   \n",
            "2  The Breakfast Club  1985          97      Drama             7.9   \n",
            "3          The Artist  2011         100    Romance             8.0   \n",
            "4        Modern Times  1936          87     Comedy             8.6   \n",
            "\n",
            "   cost_millions  foreign  age_restriction  \n",
            "0           30.0        0                0  \n",
            "1           10.4        1               14  \n",
            "2            1.0        0               14  \n",
            "3           15.0        1               12  \n",
            "4            1.5        0               10  \n",
            "\n",
            "Ringkasan Statistik Data:\n",
            "              year  length_min  average_rating  cost_millions    foreign  \\\n",
            "count    30.000000   30.000000       30.000000      30.000000  30.000000   \n",
            "mean   1995.500000  116.800000        8.103333      22.300000   0.400000   \n",
            "std      17.318019   25.306943        0.747171      32.358775   0.498273   \n",
            "min    1936.000000   81.000000        5.200000       0.400000   0.000000   \n",
            "25%    1987.750000   99.250000        7.925000       3.525000   0.000000   \n",
            "50%    1998.500000  110.500000        8.300000      13.000000   0.000000   \n",
            "75%    2007.500000  124.250000        8.500000      25.000000   1.000000   \n",
            "max    2015.000000  179.000000        9.300000     165.000000   1.000000   \n",
            "\n",
            "       age_restriction  \n",
            "count        30.000000  \n",
            "mean         12.933333  \n",
            "std           5.112077  \n",
            "min           0.000000  \n",
            "25%          12.000000  \n",
            "50%          14.000000  \n",
            "75%          16.000000  \n",
            "max          18.000000  \n"
          ]
        }
      ]
    },
    {
      "cell_type": "code",
      "source": [
        "data.head()"
      ],
      "metadata": {
        "colab": {
          "base_uri": "https://localhost:8080/",
          "height": 206
        },
        "id": "Pz_ez9UtI0lW",
        "outputId": "96ac2c7c-095d-4fb3-d13a-259628bc0a27"
      },
      "execution_count": null,
      "outputs": [
        {
          "output_type": "execute_result",
          "data": {
            "text/plain": [
              "                 name  year  length_min      genre  average_rating  \\\n",
              "0           Toy Story  1995          81  Animation             8.3   \n",
              "1               Akira  1998         125  Animation             8.1   \n",
              "2  The Breakfast Club  1985          97      Drama             7.9   \n",
              "3          The Artist  2011         100    Romance             8.0   \n",
              "4        Modern Times  1936          87     Comedy             8.6   \n",
              "\n",
              "   cost_millions  foreign  age_restriction  \n",
              "0           30.0        0                0  \n",
              "1           10.4        1               14  \n",
              "2            1.0        0               14  \n",
              "3           15.0        1               12  \n",
              "4            1.5        0               10  "
            ],
            "text/html": [
              "\n",
              "  <div id=\"df-7fcd67b0-a1af-4708-8869-c2b4cc784c5c\" class=\"colab-df-container\">\n",
              "    <div>\n",
              "<style scoped>\n",
              "    .dataframe tbody tr th:only-of-type {\n",
              "        vertical-align: middle;\n",
              "    }\n",
              "\n",
              "    .dataframe tbody tr th {\n",
              "        vertical-align: top;\n",
              "    }\n",
              "\n",
              "    .dataframe thead th {\n",
              "        text-align: right;\n",
              "    }\n",
              "</style>\n",
              "<table border=\"1\" class=\"dataframe\">\n",
              "  <thead>\n",
              "    <tr style=\"text-align: right;\">\n",
              "      <th></th>\n",
              "      <th>name</th>\n",
              "      <th>year</th>\n",
              "      <th>length_min</th>\n",
              "      <th>genre</th>\n",
              "      <th>average_rating</th>\n",
              "      <th>cost_millions</th>\n",
              "      <th>foreign</th>\n",
              "      <th>age_restriction</th>\n",
              "    </tr>\n",
              "  </thead>\n",
              "  <tbody>\n",
              "    <tr>\n",
              "      <th>0</th>\n",
              "      <td>Toy Story</td>\n",
              "      <td>1995</td>\n",
              "      <td>81</td>\n",
              "      <td>Animation</td>\n",
              "      <td>8.3</td>\n",
              "      <td>30.0</td>\n",
              "      <td>0</td>\n",
              "      <td>0</td>\n",
              "    </tr>\n",
              "    <tr>\n",
              "      <th>1</th>\n",
              "      <td>Akira</td>\n",
              "      <td>1998</td>\n",
              "      <td>125</td>\n",
              "      <td>Animation</td>\n",
              "      <td>8.1</td>\n",
              "      <td>10.4</td>\n",
              "      <td>1</td>\n",
              "      <td>14</td>\n",
              "    </tr>\n",
              "    <tr>\n",
              "      <th>2</th>\n",
              "      <td>The Breakfast Club</td>\n",
              "      <td>1985</td>\n",
              "      <td>97</td>\n",
              "      <td>Drama</td>\n",
              "      <td>7.9</td>\n",
              "      <td>1.0</td>\n",
              "      <td>0</td>\n",
              "      <td>14</td>\n",
              "    </tr>\n",
              "    <tr>\n",
              "      <th>3</th>\n",
              "      <td>The Artist</td>\n",
              "      <td>2011</td>\n",
              "      <td>100</td>\n",
              "      <td>Romance</td>\n",
              "      <td>8.0</td>\n",
              "      <td>15.0</td>\n",
              "      <td>1</td>\n",
              "      <td>12</td>\n",
              "    </tr>\n",
              "    <tr>\n",
              "      <th>4</th>\n",
              "      <td>Modern Times</td>\n",
              "      <td>1936</td>\n",
              "      <td>87</td>\n",
              "      <td>Comedy</td>\n",
              "      <td>8.6</td>\n",
              "      <td>1.5</td>\n",
              "      <td>0</td>\n",
              "      <td>10</td>\n",
              "    </tr>\n",
              "  </tbody>\n",
              "</table>\n",
              "</div>\n",
              "    <div class=\"colab-df-buttons\">\n",
              "\n",
              "  <div class=\"colab-df-container\">\n",
              "    <button class=\"colab-df-convert\" onclick=\"convertToInteractive('df-7fcd67b0-a1af-4708-8869-c2b4cc784c5c')\"\n",
              "            title=\"Convert this dataframe to an interactive table.\"\n",
              "            style=\"display:none;\">\n",
              "\n",
              "  <svg xmlns=\"http://www.w3.org/2000/svg\" height=\"24px\" viewBox=\"0 -960 960 960\">\n",
              "    <path d=\"M120-120v-720h720v720H120Zm60-500h600v-160H180v160Zm220 220h160v-160H400v160Zm0 220h160v-160H400v160ZM180-400h160v-160H180v160Zm440 0h160v-160H620v160ZM180-180h160v-160H180v160Zm440 0h160v-160H620v160Z\"/>\n",
              "  </svg>\n",
              "    </button>\n",
              "\n",
              "  <style>\n",
              "    .colab-df-container {\n",
              "      display:flex;\n",
              "      gap: 12px;\n",
              "    }\n",
              "\n",
              "    .colab-df-convert {\n",
              "      background-color: #E8F0FE;\n",
              "      border: none;\n",
              "      border-radius: 50%;\n",
              "      cursor: pointer;\n",
              "      display: none;\n",
              "      fill: #1967D2;\n",
              "      height: 32px;\n",
              "      padding: 0 0 0 0;\n",
              "      width: 32px;\n",
              "    }\n",
              "\n",
              "    .colab-df-convert:hover {\n",
              "      background-color: #E2EBFA;\n",
              "      box-shadow: 0px 1px 2px rgba(60, 64, 67, 0.3), 0px 1px 3px 1px rgba(60, 64, 67, 0.15);\n",
              "      fill: #174EA6;\n",
              "    }\n",
              "\n",
              "    .colab-df-buttons div {\n",
              "      margin-bottom: 4px;\n",
              "    }\n",
              "\n",
              "    [theme=dark] .colab-df-convert {\n",
              "      background-color: #3B4455;\n",
              "      fill: #D2E3FC;\n",
              "    }\n",
              "\n",
              "    [theme=dark] .colab-df-convert:hover {\n",
              "      background-color: #434B5C;\n",
              "      box-shadow: 0px 1px 3px 1px rgba(0, 0, 0, 0.15);\n",
              "      filter: drop-shadow(0px 1px 2px rgba(0, 0, 0, 0.3));\n",
              "      fill: #FFFFFF;\n",
              "    }\n",
              "  </style>\n",
              "\n",
              "    <script>\n",
              "      const buttonEl =\n",
              "        document.querySelector('#df-7fcd67b0-a1af-4708-8869-c2b4cc784c5c button.colab-df-convert');\n",
              "      buttonEl.style.display =\n",
              "        google.colab.kernel.accessAllowed ? 'block' : 'none';\n",
              "\n",
              "      async function convertToInteractive(key) {\n",
              "        const element = document.querySelector('#df-7fcd67b0-a1af-4708-8869-c2b4cc784c5c');\n",
              "        const dataTable =\n",
              "          await google.colab.kernel.invokeFunction('convertToInteractive',\n",
              "                                                    [key], {});\n",
              "        if (!dataTable) return;\n",
              "\n",
              "        const docLinkHtml = 'Like what you see? Visit the ' +\n",
              "          '<a target=\"_blank\" href=https://colab.research.google.com/notebooks/data_table.ipynb>data table notebook</a>'\n",
              "          + ' to learn more about interactive tables.';\n",
              "        element.innerHTML = '';\n",
              "        dataTable['output_type'] = 'display_data';\n",
              "        await google.colab.output.renderOutput(dataTable, element);\n",
              "        const docLink = document.createElement('div');\n",
              "        docLink.innerHTML = docLinkHtml;\n",
              "        element.appendChild(docLink);\n",
              "      }\n",
              "    </script>\n",
              "  </div>\n",
              "\n",
              "\n",
              "<div id=\"df-343a53c0-6d96-4704-93b1-83978ef3f0c8\">\n",
              "  <button class=\"colab-df-quickchart\" onclick=\"quickchart('df-343a53c0-6d96-4704-93b1-83978ef3f0c8')\"\n",
              "            title=\"Suggest charts.\"\n",
              "            style=\"display:none;\">\n",
              "\n",
              "<svg xmlns=\"http://www.w3.org/2000/svg\" height=\"24px\"viewBox=\"0 0 24 24\"\n",
              "     width=\"24px\">\n",
              "    <g>\n",
              "        <path d=\"M19 3H5c-1.1 0-2 .9-2 2v14c0 1.1.9 2 2 2h14c1.1 0 2-.9 2-2V5c0-1.1-.9-2-2-2zM9 17H7v-7h2v7zm4 0h-2V7h2v10zm4 0h-2v-4h2v4z\"/>\n",
              "    </g>\n",
              "</svg>\n",
              "  </button>\n",
              "\n",
              "<style>\n",
              "  .colab-df-quickchart {\n",
              "      --bg-color: #E8F0FE;\n",
              "      --fill-color: #1967D2;\n",
              "      --hover-bg-color: #E2EBFA;\n",
              "      --hover-fill-color: #174EA6;\n",
              "      --disabled-fill-color: #AAA;\n",
              "      --disabled-bg-color: #DDD;\n",
              "  }\n",
              "\n",
              "  [theme=dark] .colab-df-quickchart {\n",
              "      --bg-color: #3B4455;\n",
              "      --fill-color: #D2E3FC;\n",
              "      --hover-bg-color: #434B5C;\n",
              "      --hover-fill-color: #FFFFFF;\n",
              "      --disabled-bg-color: #3B4455;\n",
              "      --disabled-fill-color: #666;\n",
              "  }\n",
              "\n",
              "  .colab-df-quickchart {\n",
              "    background-color: var(--bg-color);\n",
              "    border: none;\n",
              "    border-radius: 50%;\n",
              "    cursor: pointer;\n",
              "    display: none;\n",
              "    fill: var(--fill-color);\n",
              "    height: 32px;\n",
              "    padding: 0;\n",
              "    width: 32px;\n",
              "  }\n",
              "\n",
              "  .colab-df-quickchart:hover {\n",
              "    background-color: var(--hover-bg-color);\n",
              "    box-shadow: 0 1px 2px rgba(60, 64, 67, 0.3), 0 1px 3px 1px rgba(60, 64, 67, 0.15);\n",
              "    fill: var(--button-hover-fill-color);\n",
              "  }\n",
              "\n",
              "  .colab-df-quickchart-complete:disabled,\n",
              "  .colab-df-quickchart-complete:disabled:hover {\n",
              "    background-color: var(--disabled-bg-color);\n",
              "    fill: var(--disabled-fill-color);\n",
              "    box-shadow: none;\n",
              "  }\n",
              "\n",
              "  .colab-df-spinner {\n",
              "    border: 2px solid var(--fill-color);\n",
              "    border-color: transparent;\n",
              "    border-bottom-color: var(--fill-color);\n",
              "    animation:\n",
              "      spin 1s steps(1) infinite;\n",
              "  }\n",
              "\n",
              "  @keyframes spin {\n",
              "    0% {\n",
              "      border-color: transparent;\n",
              "      border-bottom-color: var(--fill-color);\n",
              "      border-left-color: var(--fill-color);\n",
              "    }\n",
              "    20% {\n",
              "      border-color: transparent;\n",
              "      border-left-color: var(--fill-color);\n",
              "      border-top-color: var(--fill-color);\n",
              "    }\n",
              "    30% {\n",
              "      border-color: transparent;\n",
              "      border-left-color: var(--fill-color);\n",
              "      border-top-color: var(--fill-color);\n",
              "      border-right-color: var(--fill-color);\n",
              "    }\n",
              "    40% {\n",
              "      border-color: transparent;\n",
              "      border-right-color: var(--fill-color);\n",
              "      border-top-color: var(--fill-color);\n",
              "    }\n",
              "    60% {\n",
              "      border-color: transparent;\n",
              "      border-right-color: var(--fill-color);\n",
              "    }\n",
              "    80% {\n",
              "      border-color: transparent;\n",
              "      border-right-color: var(--fill-color);\n",
              "      border-bottom-color: var(--fill-color);\n",
              "    }\n",
              "    90% {\n",
              "      border-color: transparent;\n",
              "      border-bottom-color: var(--fill-color);\n",
              "    }\n",
              "  }\n",
              "</style>\n",
              "\n",
              "  <script>\n",
              "    async function quickchart(key) {\n",
              "      const quickchartButtonEl =\n",
              "        document.querySelector('#' + key + ' button');\n",
              "      quickchartButtonEl.disabled = true;  // To prevent multiple clicks.\n",
              "      quickchartButtonEl.classList.add('colab-df-spinner');\n",
              "      try {\n",
              "        const charts = await google.colab.kernel.invokeFunction(\n",
              "            'suggestCharts', [key], {});\n",
              "      } catch (error) {\n",
              "        console.error('Error during call to suggestCharts:', error);\n",
              "      }\n",
              "      quickchartButtonEl.classList.remove('colab-df-spinner');\n",
              "      quickchartButtonEl.classList.add('colab-df-quickchart-complete');\n",
              "    }\n",
              "    (() => {\n",
              "      let quickchartButtonEl =\n",
              "        document.querySelector('#df-343a53c0-6d96-4704-93b1-83978ef3f0c8 button');\n",
              "      quickchartButtonEl.style.display =\n",
              "        google.colab.kernel.accessAllowed ? 'block' : 'none';\n",
              "    })();\n",
              "  </script>\n",
              "</div>\n",
              "    </div>\n",
              "  </div>\n"
            ]
          },
          "metadata": {},
          "execution_count": 63
        }
      ]
    },
    {
      "cell_type": "code",
      "source": [
        "# Filter data untuk hanya menyertakan film dengan genre \"Animation\"\n",
        "animation_movies = data[data['genre'] == 'Animation']\n",
        "\n",
        "# Menghitung jumlah film yang memiliki genre \"Animation\"\n",
        "jumlah_film_animation = len(animation_movies)\n",
        "\n",
        "print(\"Jumlah film dengan genre 'Animation':\", jumlah_film_animation)\n"
      ],
      "metadata": {
        "colab": {
          "base_uri": "https://localhost:8080/"
        },
        "id": "4BFKiRTMKYg2",
        "outputId": "42af6386-ad50-4e26-d0ce-e72754a27f58"
      },
      "execution_count": null,
      "outputs": [
        {
          "output_type": "stream",
          "name": "stdout",
          "text": [
            "Jumlah film dengan genre 'Animation': 2\n"
          ]
        }
      ]
    },
    {
      "cell_type": "code",
      "source": [
        "# Temukan film dengan durasi terpanjang\n",
        "film_terpanjang = data[data['length_min'] == data['length_min'].max()]\n",
        "\n",
        "# Ambil nama file dan durasinya\n",
        "nama_filem = film_terpanjang['name'].values[0]\n",
        "panjang_durasi = film_terpanjang['length_min'].values[0]\n",
        "\n",
        "print(\"Film dengan durasi terpanjang:\")\n",
        "print(\"Nama Film:\", nama_filem)\n",
        "print(\"Panjang Durasi (menit):\", panjang_durasi)\n"
      ],
      "metadata": {
        "colab": {
          "base_uri": "https://localhost:8080/"
        },
        "id": "aJ-yU_13LJgG",
        "outputId": "d754be10-3c6b-46dc-8380-9c07fe46d09c"
      },
      "execution_count": null,
      "outputs": [
        {
          "output_type": "stream",
          "name": "stdout",
          "text": [
            "Film dengan durasi terpanjang:\n",
            "Nama Film: Blue is the Warmest Colour\n",
            "Panjang Durasi (menit): 179\n"
          ]
        }
      ]
    },
    {
      "cell_type": "code",
      "source": [
        "# Temukan film dengan rating tertinggi\n",
        "film_tertinggi = data[data['average_rating'] == data['average_rating'].max()]\n",
        "\n",
        "# Ambil nama film, genre, dan tahun rilis\n",
        "nama_film = film_tertinggi['name'].values[0]\n",
        "genre = film_tertinggi['genre'].values[0]\n",
        "tahun_rilis = film_tertinggi['year'].values[0]\n",
        "\n",
        "print(\"Film dengan Rating Tertinggi:\")\n",
        "print(\"Nama Film:\", nama_film)\n",
        "print(\"Genre:\", genre)\n",
        "print(\"Tahun Rilis:\", tahun_rilis)\n"
      ],
      "metadata": {
        "colab": {
          "base_uri": "https://localhost:8080/"
        },
        "id": "SEjKwM3dND9f",
        "outputId": "9060839f-d6a8-4e18-8ad8-936a15c0691a"
      },
      "execution_count": null,
      "outputs": [
        {
          "output_type": "stream",
          "name": "stdout",
          "text": [
            "Film dengan Rating Tertinggi:\n",
            "Nama Film: The Shawshank Redemption\n",
            "Genre: Crime\n",
            "Tahun Rilis: 1994\n"
          ]
        }
      ]
    },
    {
      "cell_type": "markdown",
      "source": [
        "## **Burung Kipasan Burung Cendrawasih**\n",
        "## **Cukup Sekian Dan Terima Kasih**"
      ],
      "metadata": {
        "id": "El2LzxbALgH-"
      }
    }
  ]
}